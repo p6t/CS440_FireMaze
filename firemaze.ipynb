{
 "metadata": {
  "language_info": {
   "codemirror_mode": {
    "name": "ipython",
    "version": 3
   },
   "file_extension": ".py",
   "mimetype": "text/x-python",
   "name": "python",
   "nbconvert_exporter": "python",
   "pygments_lexer": "ipython3",
   "version": 3
  },
  "orig_nbformat": 2
 },
 "nbformat": 4,
 "nbformat_minor": 2,
 "cells": [
  {
   "source": [
    "Importing and setting values."
   ],
   "cell_type": "markdown",
   "metadata": {}
  },
  {
   "cell_type": "code",
   "execution_count": null,
   "metadata": {},
   "outputs": [],
   "source": [
    "import sys\n",
    "import numpy as np\n",
    "\n",
    "np.set_printoptions(threshold=sys.maxsize)"
   ]
  },
  {
   "source": [
    "## Problem 1: Maze Generation"
   ],
   "cell_type": "markdown",
   "metadata": {}
  },
  {
   "cell_type": "code",
   "execution_count": null,
   "metadata": {},
   "outputs": [],
   "source": [
    "def generate_maze(dim, p):\n",
    "    \n",
    "    maze = np.zeros(dim**2)\n",
    "\n",
    "    for i in range(int(dim**2 * p)):\n",
    "        maze[i] = 1\n",
    "    \n",
    "    np.random.shuffle(maze)\n",
    "    \n",
    "    return maze.reshape((dim, dim))"
   ]
  },
  {
   "source": [
    "Testing for problem 1."
   ],
   "cell_type": "markdown",
   "metadata": {}
  },
  {
   "cell_type": "code",
   "execution_count": null,
   "metadata": {},
   "outputs": [],
   "source": [
    "testmaze = generate_maze(3, .3)\n",
    "print(testmaze)"
   ]
  }
 ]
}